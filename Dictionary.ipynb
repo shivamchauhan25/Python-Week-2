{
 "cells": [
  {
   "cell_type": "code",
   "execution_count": 1,
   "metadata": {},
   "outputs": [
    {
     "name": "stdout",
     "output_type": "stream",
     "text": [
      "[0, 1, 2, 2]\n"
     ]
    }
   ],
   "source": [
    "a=[0,1,2,3]\n",
    "b=[]\n",
    "for a[-1] in a:\n",
    "    b.append(a[-1])\n",
    "print(b)"
   ]
  },
  {
   "cell_type": "markdown",
   "metadata": {},
   "source": [
    "# 1.Collection of mixed datatypes.\n"
   ]
  },
  {
   "cell_type": "code",
   "execution_count": 20,
   "metadata": {},
   "outputs": [
    {
     "name": "stdout",
     "output_type": "stream",
     "text": [
      "Shivam\n"
     ]
    }
   ],
   "source": [
    "phonebook={'name':['Shivam','Hitesh'],\n",
    "          'phone':['986683','123456'],\n",
    "          'email':['shivam@gmail.com','hitesh@gmail.com']}\n",
    "a=phonebook['name']\n",
    "print(a[0])\n"
   ]
  },
  {
   "cell_type": "code",
   "execution_count": null,
   "metadata": {},
   "outputs": [],
   "source": [
    "key=[]\n",
    "key.append"
   ]
  },
  {
   "cell_type": "code",
   "execution_count": 27,
   "metadata": {},
   "outputs": [
    {
     "name": "stdout",
     "output_type": "stream",
     "text": [
      "name\n",
      "['Shivam', 'Hitesh']\n",
      "phone\n",
      "['986683', '123456']\n",
      "email\n",
      "['shivam@gmail.com', 'hitesh@gmail.com']\n"
     ]
    }
   ],
   "source": [
    "for keys in phonebook:\n",
    "    print(keys)\n",
    "    print(phonebook[keys])"
   ]
  },
  {
   "cell_type": "code",
   "execution_count": null,
   "metadata": {},
   "outputs": [],
   "source": []
  }
 ],
 "metadata": {
  "kernelspec": {
   "display_name": "Python 3",
   "language": "python",
   "name": "python3"
  },
  "language_info": {
   "codemirror_mode": {
    "name": "ipython",
    "version": 3
   },
   "file_extension": ".py",
   "mimetype": "text/x-python",
   "name": "python",
   "nbconvert_exporter": "python",
   "pygments_lexer": "ipython3",
   "version": "3.6.8"
  }
 },
 "nbformat": 4,
 "nbformat_minor": 2
}
