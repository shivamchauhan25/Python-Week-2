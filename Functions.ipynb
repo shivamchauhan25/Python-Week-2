{
 "cells": [
  {
   "cell_type": "code",
   "execution_count": 1,
   "metadata": {},
   "outputs": [
    {
     "name": "stdout",
     "output_type": "stream",
     "text": [
      "shivam,hitesh are very good students\n"
     ]
    }
   ],
   "source": [
    "def eveningBatch(name1,name2):\n",
    "    string=\"{},{} are very good students\".format(name1,name2)\n",
    "    return string\n",
    "print(eveningBatch('shivam','hitesh'))\n"
   ]
  },
  {
   "cell_type": "code",
   "execution_count": 3,
   "metadata": {},
   "outputs": [
    {
     "name": "stdout",
     "output_type": "stream",
     "text": [
      "b,Shivam are Very Good Students\n"
     ]
    }
   ],
   "source": [
    "def eveningBatch(name1='Hitesh',name2='Shivam'):\n",
    "    string='{},{} are Very Good Students'.format(name1,name2)\n",
    "    return string\n",
    "#main program\n",
    "#name3=‘hitesh’\n",
    "#name4=‘shivam’\n",
    "print(eveningBatch('b'))"
   ]
  },
  {
   "cell_type": "code",
   "execution_count": 5,
   "metadata": {},
   "outputs": [
    {
     "name": "stdout",
     "output_type": "stream",
     "text": [
      "[4, 6, 8, 12]\n"
     ]
    }
   ],
   "source": [
    "my_list = [1, 5, 4, 6, 8, 11, 3, 12]\n",
    "#new_list = list(filter())\n",
    "aynomous=list(filter(lambda x: (x%2 == 0) , my_list))\n",
    "print(aynomous)\n",
    "#print(new_list"
   ]
  },
  {
   "cell_type": "code",
   "execution_count": 6,
   "metadata": {},
   "outputs": [
    {
     "name": "stdout",
     "output_type": "stream",
     "text": [
      "[4, 9, 25, 36, 5776, 9, 9, 4]\n"
     ]
    }
   ],
   "source": [
    "square = list(map(lambda x: x * x, [2, 3, 5, 6, 76, 3, 3, 2]))\n",
    "# or\n",
    "num = [2, 3, 5, 6, 76, 3, 3, 2]\n",
    "square = list(map(lambda x: x * x, num))\n",
    "print(square)"
   ]
  },
  {
   "cell_type": "code",
   "execution_count": 7,
   "metadata": {},
   "outputs": [
    {
     "name": "stdout",
     "output_type": "stream",
     "text": [
      "[0, 0]\n",
      "[1, 1]\n",
      "[4, 8]\n",
      "[9, 27]\n",
      "[16, 64]\n"
     ]
    }
   ],
   "source": [
    "def square(a):\n",
    "    return a * a\n",
    "def cube(a):\n",
    "    return a * a * a\n",
    "func = [square, cube]\n",
    "for i in range(5):\n",
    "    val = list(map(lambda x: x(i), func))\n",
    "    lambda x: x(i), func\n",
    "    lambda square: square(0)\n",
    "    print(val)"
   ]
  },
  {
   "cell_type": "code",
   "execution_count": null,
   "metadata": {},
   "outputs": [],
   "source": []
  },
  {
   "cell_type": "code",
   "execution_count": null,
   "metadata": {},
   "outputs": [],
   "source": []
  },
  {
   "cell_type": "code",
   "execution_count": null,
   "metadata": {},
   "outputs": [],
   "source": []
  },
  {
   "cell_type": "code",
   "execution_count": null,
   "metadata": {},
   "outputs": [],
   "source": []
  },
  {
   "cell_type": "code",
   "execution_count": null,
   "metadata": {},
   "outputs": [],
   "source": []
  },
  {
   "cell_type": "code",
   "execution_count": null,
   "metadata": {},
   "outputs": [],
   "source": []
  },
  {
   "cell_type": "code",
   "execution_count": null,
   "metadata": {},
   "outputs": [],
   "source": []
  }
 ],
 "metadata": {
  "kernelspec": {
   "display_name": "Python 3",
   "language": "python",
   "name": "python3"
  },
  "language_info": {
   "codemirror_mode": {
    "name": "ipython",
    "version": 3
   },
   "file_extension": ".py",
   "mimetype": "text/x-python",
   "name": "python",
   "nbconvert_exporter": "python",
   "pygments_lexer": "ipython3",
   "version": "3.6.8"
  }
 },
 "nbformat": 4,
 "nbformat_minor": 2
}
